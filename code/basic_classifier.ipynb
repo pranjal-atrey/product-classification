{
 "cells": [
  {
   "cell_type": "code",
   "execution_count": 36,
   "metadata": {},
   "outputs": [],
   "source": [
    "import pandas as pd\n",
    "import os\n",
    "from tkinter import *\n",
    "\n",
    "app = Tk()"
   ]
  },
  {
   "cell_type": "code",
   "execution_count": 37,
   "metadata": {
    "scrolled": false
   },
   "outputs": [],
   "source": [
    "data = pd.read_csv('C:/Users/slice/Desktop/icsi499/data/combined_data/combined.csv')"
   ]
  },
  {
   "cell_type": "code",
   "execution_count": 38,
   "metadata": {},
   "outputs": [],
   "source": [
    "# List of products only in the accessories category\n",
    "accessory_products = data[data['category'] == 'accessories']['name'].values\n",
    "\n",
    "def findValue():\n",
    "    if inputBox.get() in accessory_products:\n",
    "        finalLabel = Label(app, text = \"The label {} is in the table.\".format(inputBox.get()))\n",
    "    else:\n",
    "        finalLabel = Label(app, text = \"The label {} is NOT in the table.\".format(inputBox.get()))\n",
    "    finalLabel.pack()\n",
    "\n",
    "infoLabel = Label(app, text = \"Enter a product name!\")\n",
    "inputBox = Entry(app, width = 50)\n",
    "button = Button(app, text = \"Submit\", command = findValue)\n",
    "infoLabel.pack()\n",
    "inputBox.pack()\n",
    "button.pack()\n",
    "\n",
    "app.mainloop()\n"
   ]
  }
 ],
 "metadata": {
  "kernelspec": {
   "display_name": "Python 3",
   "language": "python",
   "name": "python3"
  },
  "language_info": {
   "codemirror_mode": {
    "name": "ipython",
    "version": 3
   },
   "file_extension": ".py",
   "mimetype": "text/x-python",
   "name": "python",
   "nbconvert_exporter": "python",
   "pygments_lexer": "ipython3",
   "version": "3.7.6"
  }
 },
 "nbformat": 4,
 "nbformat_minor": 2
}
