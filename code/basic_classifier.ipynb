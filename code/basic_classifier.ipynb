{
 "cells": [
  {
   "cell_type": "code",
   "execution_count": 1,
   "metadata": {},
   "outputs": [],
   "source": [
    "import pandas as pd\n",
    "import os\n",
    "from tkinter import *\n",
    "\n",
    "os.chdir(\"..\")\n",
    "\n",
    "app = Tk()"
   ]
  },
  {
   "cell_type": "code",
   "execution_count": 2,
   "metadata": {},
   "outputs": [],
   "source": [
    "data = pd.read_csv('./data/combined_data/combined.csv')"
   ]
  },
  {
   "cell_type": "code",
   "execution_count": null,
   "metadata": {},
   "outputs": [],
   "source": [
    "accessory_products = data[data['category'] == 'accessories']['name'].values\n",
    "\n",
    "def findValue():\n",
    "    if inputBox.get() in accessory_products:\n",
    "        finalLabel = Label(app, text = \"The label {} is an accessory.\".format(inputBox.get()))\n",
    "    else:\n",
    "        finalLabel = Label(app, text = \"The label {} is NOT an accessory.\".format(inputBox.get()))\n",
    "    finalLabel.pack()\n",
    "\n",
    "infoLabel = Label(app, text = \"Enter a product name to check if it is an accessory:\")\n",
    "inputBox = Entry(app, width = 50)\n",
    "button = Button(app, text = \"Submit\", command = findValue)\n",
    "infoLabel.pack()\n",
    "inputBox.pack()\n",
    "button.pack()\n",
    "\n",
    "app.mainloop()"
   ]
  }
 ],
 "metadata": {
  "kernelspec": {
   "display_name": "Python 3",
   "language": "python",
   "name": "python3"
  },
  "language_info": {
   "codemirror_mode": {
    "name": "ipython",
    "version": 3
   },
   "file_extension": ".py",
   "mimetype": "text/x-python",
   "name": "python",
   "nbconvert_exporter": "python",
   "pygments_lexer": "ipython3",
   "version": "3.7.4"
  }
 },
 "nbformat": 4,
 "nbformat_minor": 2
}
