{
 "cells": [
  {
   "cell_type": "code",
   "execution_count": 1,
   "metadata": {},
   "outputs": [],
   "source": [
    "# This code has been written by Pranjal Atrey\n",
    "import pandas as pd\n",
    "import os\n",
    "\n",
    "os.chdir(\"..\")"
   ]
  },
  {
   "cell_type": "code",
   "execution_count": 2,
   "metadata": {},
   "outputs": [],
   "source": [
    "data = pd.read_csv(\"./data/altered_data_files/refactored_data_files/newchic_dataset.csv\")"
   ]
  },
  {
   "cell_type": "code",
   "execution_count": 3,
   "metadata": {},
   "outputs": [
    {
     "name": "stdout",
     "output_type": "stream",
     "text": [
      "Combined: \n",
      "Number of categories:  9\n",
      "List of unique categories:  ['accessories' 'bags' 'beauty' 'house' 'jewelry' 'kids' 'men' 'shoes'\n",
      " 'women']\n",
      "Number of products:  74999\n",
      "Number of unique products:  69395\n",
      "Number of subcategories:  651\n"
     ]
    }
   ],
   "source": [
    "# Combined file\n",
    "print(\"Combined: \")\n",
    "\n",
    "unique_values_categories = data['category'].unique()\n",
    "print(\"Number of categories: \",len(unique_values_categories))\n",
    "print(\"List of unique categories: \",unique_values_categories) \n",
    "\n",
    "# Number of products\n",
    "product_values = data['name']\n",
    "print(\"Number of products: \",len(product_values))\n",
    "\n",
    "# Number of unique products\n",
    "unique_values = data['name'].unique()\n",
    "print(\"Number of unique products: \",len(unique_values))\n",
    "\n",
    "# Number of subcategories\n",
    "unique_values = data['subcategory'].unique()\n",
    "print(\"Number of subcategories: \",len(unique_values))"
   ]
  },
  {
   "cell_type": "code",
   "execution_count": 4,
   "metadata": {},
   "outputs": [
    {
     "name": "stdout",
     "output_type": "stream",
     "text": [
      "------------------------------------------\n",
      "Category: accessories\n",
      "------------------------------------------\n",
      "Number of unique products:  6358\n",
      "Number of subcategories:  35\n",
      "Mean value of current price:  12.15106637307339\n",
      "Range of current price:  0.22 to 92.99\n",
      "------------------------------------------\n",
      "Category: bags\n",
      "------------------------------------------\n",
      "Number of unique products:  6268\n",
      "Number of subcategories:  16\n",
      "Mean value of current price:  27.97264518187681\n",
      "Range of current price:  1.64 to 166.93\n",
      "------------------------------------------\n",
      "Category: beauty\n",
      "------------------------------------------\n",
      "Number of unique products:  3804\n",
      "Number of subcategories:  105\n",
      "Mean value of current price:  24.04085699263942\n",
      "Range of current price:  0.06 to 1899.99\n",
      "------------------------------------------\n",
      "Category: house\n",
      "------------------------------------------\n",
      "Number of unique products:  12791\n",
      "Number of subcategories:  320\n",
      "Mean value of current price:  19.3368212024065\n",
      "Range of current price:  0.74 to 1157.99\n",
      "------------------------------------------\n",
      "Category: jewelry\n",
      "------------------------------------------\n",
      "Number of unique products:  4853\n",
      "Number of subcategories:  33\n",
      "Mean value of current price:  16.452732330517176\n",
      "Range of current price:  0.26 to 601.79\n",
      "------------------------------------------\n",
      "Category: kids\n",
      "------------------------------------------\n",
      "Number of unique products:  4085\n",
      "Number of subcategories:  51\n",
      "Mean value of current price:  19.92844063647495\n",
      "Range of current price:  2.28 to 120.99\n",
      "------------------------------------------\n",
      "Category: men\n",
      "------------------------------------------\n",
      "Number of unique products:  10208\n",
      "Number of subcategories:  43\n",
      "Mean value of current price:  27.142447100312257\n",
      "Range of current price:  1.15 to 314.59\n",
      "------------------------------------------\n",
      "Category: shoes\n",
      "------------------------------------------\n",
      "Number of unique products:  11823\n",
      "Number of subcategories:  22\n",
      "Mean value of current price:  38.08437959908558\n",
      "Range of current price:  2.05 to 143.73\n",
      "------------------------------------------\n",
      "Category: women\n",
      "------------------------------------------\n",
      "Number of unique products:  14809\n",
      "Number of subcategories:  60\n",
      "Mean value of current price:  24.482453913158974\n",
      "Range of current price:  0.14 to 188.99\n"
     ]
    }
   ],
   "source": [
    "for cat in unique_values_categories:\n",
    "    # Category\n",
    "    print(\"------------------------------------------\")\n",
    "    print(\"Category: \" + cat)\n",
    "    print(\"------------------------------------------\")\n",
    "    \n",
    "    # Number of products\n",
    "    product_values = data[data['category'] == cat]['name']\n",
    "    print(\"Number of unique products: \",len(product_values))\n",
    "\n",
    "    # Number of subcategories\n",
    "    subcategories = data[data['category'] == cat]['subcategory'].unique()\n",
    "    print(\"Number of subcategories: \",len(subcategories)) \n",
    "    \n",
    "    # Current price analysis\n",
    "    mean_value_price = data[data['category'] == cat]['current_price'].mean()\n",
    "    print(\"Mean value of current price: \",mean_value_price)\n",
    "\n",
    "    lowest_value_price = data[data['category'] == cat]['current_price'].min()\n",
    "    highest_value_price = data[data['category'] == cat]['current_price'].max()\n",
    "    print(\"Range of current price: \", lowest_value_price, \"to\", highest_value_price)"
   ]
  },
  {
   "cell_type": "code",
   "execution_count": 5,
   "metadata": {},
   "outputs": [
    {
     "data": {
      "image/png": "[encoded data removed]",
      "text/plain": [
       "<Figure size 432x288 with 1 Axes>"
      ]
     },
     "metadata": {
      "needs_background": "light"
     },
     "output_type": "display_data"
    }
   ],
   "source": [
    "%matplotlib inline\n",
    "import matplotlib.pyplot as plt\n",
    "\n",
    "pd.value_counts(data['category']).plot.bar()\n",
    "\n",
    "plt.xlabel(\"Product Categories\")\n",
    "plt.ylabel(\"Number of Products\")\n",
    "\n",
    "plt.show()"
   ]
  }
 ],
 "metadata": {
  "kernelspec": {
   "display_name": "Python 3",
   "language": "python",
   "name": "python3"
  },
  "language_info": {
   "codemirror_mode": {
    "name": "ipython",
    "version": 3
   },
   "file_extension": ".py",
   "mimetype": "text/x-python",
   "name": "python",
   "nbconvert_exporter": "python",
   "pygments_lexer": "ipython3",
   "version": "3.7.4"
  }
 },
 "nbformat": 4,
 "nbformat_minor": 2
}
